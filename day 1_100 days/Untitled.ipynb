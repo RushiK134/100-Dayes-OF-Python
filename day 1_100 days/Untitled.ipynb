{
 "cells": [
  {
   "cell_type": "code",
   "execution_count": 1,
   "id": "c82bc79f",
   "metadata": {},
   "outputs": [
    {
     "name": "stdout",
     "output_type": "stream",
     "text": [
      "Rushikesh\n",
      "September 10th 2023\n",
      "I am signing up for Replit's 100 days of Python challange!\n",
      "I will make it sure to spend some time every day coding along, for a minimum of 10 minits a day.\n",
      "I'll be using Replit, an amazing online IDE so I can do this from my phone wherever I happen to be. No excuses ffor the coding from the middle of a field!\n",
      "I am feeling 🥳😘\n",
      "You can follow my progress at replit.com/@Rushik134\n"
     ]
    }
   ],
   "source": [
    "print(\"Rushikesh\")\n",
    "print(\"September 10th 2023\")\n",
    "print(\"I am signing up for Replit's 100 days of Python challange!\")\n",
    "print(\"I will make it sure to spend some time every day coding along, for a minimum of 10 minits a day.\")\n",
    "print(\"I'll be using Replit, an amazing online IDE so I can do this from my phone wherever I happen to be. No excuses ffor the coding from the middle of a field!\")\n",
    "print(\"I am feeling 🥳😘\")\n",
    "print(\"You can follow my progress at replit.com/@Rushik134\")"
   ]
  },
  {
   "cell_type": "code",
   "execution_count": null,
   "id": "ed377aac",
   "metadata": {},
   "outputs": [],
   "source": []
  }
 ],
 "metadata": {
  "kernelspec": {
   "display_name": "Python 3 (ipykernel)",
   "language": "python",
   "name": "python3"
  },
  "language_info": {
   "codemirror_mode": {
    "name": "ipython",
    "version": 3
   },
   "file_extension": ".py",
   "mimetype": "text/x-python",
   "name": "python",
   "nbconvert_exporter": "python",
   "pygments_lexer": "ipython3",
   "version": "3.9.13"
  }
 },
 "nbformat": 4,
 "nbformat_minor": 5
}
